{
 "cells": [
  {
   "cell_type": "code",
   "execution_count": 3,
   "metadata": {},
   "outputs": [
    {
     "name": "stdout",
     "output_type": "stream",
     "text": [
      "7\n"
     ]
    }
   ],
   "source": [
    "number = 7\n",
    "if number: \n",
    "    print(number) \n"
   ]
  },
  {
   "cell_type": "code",
   "execution_count": null,
   "metadata": {},
   "outputs": [],
   "source": [
    "number = 0\n",
    "if number: \n",
    "  print(number) \n"
   ]
  },
  {
   "cell_type": "code",
   "execution_count": 8,
   "metadata": {},
   "outputs": [
    {
     "name": "stdout",
     "output_type": "stream",
     "text": [
      "odd number\n",
      "even number\n"
     ]
    }
   ],
   "source": [
    "# define a function for checking \n",
    "# number is even or odd \n",
    "def even_odd(number): \n",
    "\t\n",
    "\tif number % 2: \n",
    "\t\t\n",
    "\t\t# since num % 2 is equal to 1 \n",
    "\t\t# which is Truthy Value \n",
    "\t\treturn 'odd number'\n",
    "\t\t\n",
    "\telse: \n",
    "\t\t\n",
    "\t\t# since num%2 is equal to 0 \n",
    "\t\t# which is Falsy Value. \n",
    "\t\treturn 'even number'\n",
    "\n",
    "result1 = even_odd(7) \n",
    "\n",
    "# prints odd \n",
    "print(result1) \n",
    "\n",
    "result2 = even_odd(4) \n",
    "\n",
    "# prints even \n",
    "print(result2) \n"
   ]
  },
  {
   "cell_type": "code",
   "execution_count": null,
   "metadata": {},
   "outputs": [],
   "source": []
  }
 ],
 "metadata": {
  "kernelspec": {
   "display_name": "Python 3",
   "language": "python",
   "name": "python3"
  },
  "language_info": {
   "codemirror_mode": {
    "name": "ipython",
    "version": 3
   },
   "file_extension": ".py",
   "mimetype": "text/x-python",
   "name": "python",
   "nbconvert_exporter": "python",
   "pygments_lexer": "ipython3",
   "version": "3.10.12"
  }
 },
 "nbformat": 4,
 "nbformat_minor": 2
}
