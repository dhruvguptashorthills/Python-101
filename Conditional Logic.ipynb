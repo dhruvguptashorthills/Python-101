{
 "cells": [
  {
   "cell_type": "code",
   "execution_count": 1,
   "metadata": {},
   "outputs": [
    {
     "name": "stdout",
     "output_type": "stream",
     "text": [
      "x is greater than 5\n"
     ]
    }
   ],
   "source": [
    "# Example 1: If statement\n",
    "x = 10\n",
    "if x > 5:\n",
    "    print('x is greater than 5')"
   ]
  },
  {
   "cell_type": "code",
   "execution_count": 2,
   "metadata": {},
   "outputs": [
    {
     "name": "stdout",
     "output_type": "stream",
     "text": [
      "x is not greater than 5\n"
     ]
    }
   ],
   "source": [
    "# Example 2: If-Else statement\n",
    "x = 3\n",
    "if x > 5:\n",
    "    print('x is greater than 5')\n",
    "else:\n",
    "    print('x is not greater than 5')"
   ]
  },
  {
   "cell_type": "code",
   "execution_count": 3,
   "metadata": {},
   "outputs": [
    {
     "name": "stdout",
     "output_type": "stream",
     "text": [
      "x is equal to 5\n"
     ]
    }
   ],
   "source": [
    "# Example 3: Elif statement\n",
    "x = 5\n",
    "if x > 5:\n",
    "    print('x is greater than 5')\n",
    "elif x == 5:\n",
    "    print('x is equal to 5')\n",
    "else:\n",
    "    print('x is less than 5')"
   ]
  },
  {
   "cell_type": "code",
   "execution_count": 4,
   "metadata": {},
   "outputs": [
    {
     "name": "stdout",
     "output_type": "stream",
     "text": [
      "x is greater than 5 and y is greater than 15\n"
     ]
    }
   ],
   "source": [
    "# Example 4: Nested If statements\n",
    "x = 10\n",
    "y = 20\n",
    "if x > 5:\n",
    "    if y > 15:\n",
    "        print('x is greater than 5 and y is greater than 15')"
   ]
  },
  {
   "cell_type": "code",
   "execution_count": 5,
   "metadata": {},
   "outputs": [
    {
     "name": "stdout",
     "output_type": "stream",
     "text": [
      "x is greater than 5\n"
     ]
    }
   ],
   "source": [
    "# Example 5: One-line If statement\n",
    "x = 10\n",
    "print('x is greater than 5') if x > 5 else None"
   ]
  },
  {
   "cell_type": "code",
   "execution_count": 6,
   "metadata": {},
   "outputs": [
    {
     "name": "stdout",
     "output_type": "stream",
     "text": [
      "x is not greater than 5\n"
     ]
    }
   ],
   "source": [
    "# Example 6: One-line If-Else statement\n",
    "x = 3\n",
    "print('x is greater than 5') if x > 5 else print('x is not greater than 5')"
   ]
  },
  {
   "cell_type": "code",
   "execution_count": 7,
   "metadata": {},
   "outputs": [
    {
     "name": "stdout",
     "output_type": "stream",
     "text": [
      "Both conditions are True\n"
     ]
    }
   ],
   "source": [
    "# Example 7: Using 'and' operator\n",
    "x = 10\n",
    "y = 20\n",
    "if x > 5 and y > 15:\n",
    "    print('Both conditions are True')"
   ]
  },
  {
   "cell_type": "code",
   "execution_count": 8,
   "metadata": {},
   "outputs": [
    {
     "name": "stdout",
     "output_type": "stream",
     "text": [
      "At least one condition is True\n"
     ]
    }
   ],
   "source": [
    "# Example 8: Using 'or' operator\n",
    "x = 10\n",
    "y = 5\n",
    "if x > 5 or y > 15:\n",
    "    print('At least one condition is True')"
   ]
  },
  {
   "cell_type": "code",
   "execution_count": 9,
   "metadata": {},
   "outputs": [
    {
     "name": "stdout",
     "output_type": "stream",
     "text": [
      "x is not less than 5\n"
     ]
    }
   ],
   "source": [
    "# Example 9: Using 'not' operator\n",
    "x = 10\n",
    "if not x < 5:\n",
    "    print('x is not less than 5')"
   ]
  },
  {
   "cell_type": "code",
   "execution_count": 10,
   "metadata": {},
   "outputs": [],
   "source": [
    "# Example 10: Using \"pass\" statement\n",
    "x = 10\n",
    "if x > 5:\n",
    "    pass\n",
    "else:\n",
    "    print('x is not greater than 5')\n"
   ]
  },
  {
   "cell_type": "code",
   "execution_count": null,
   "metadata": {},
   "outputs": [],
   "source": []
  }
 ],
 "metadata": {
  "kernelspec": {
   "display_name": "Python 3",
   "language": "python",
   "name": "python3"
  },
  "language_info": {
   "codemirror_mode": {
    "name": "ipython",
    "version": 3
   },
   "file_extension": ".py",
   "mimetype": "text/x-python",
   "name": "python",
   "nbconvert_exporter": "python",
   "pygments_lexer": "ipython3",
   "version": "3.10.12"
  }
 },
 "nbformat": 4,
 "nbformat_minor": 4
}
