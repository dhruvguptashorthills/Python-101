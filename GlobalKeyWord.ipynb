{
 "cells": [
  {
   "cell_type": "code",
   "execution_count": 10,
   "metadata": {},
   "outputs": [
    {
     "name": "stdout",
     "output_type": "stream",
     "text": [
      "20\n"
     ]
    }
   ],
   "source": [
    "# global variable\n",
    "x = 10  \n",
    "\n",
    "def fun():\n",
    "    global x  # referencing the global variable x\n",
    "    x = 20  # modifying the global variable\n",
    "\n",
    "fun()\n",
    "print(x)\n"
   ]
  },
  {
   "cell_type": "code",
   "execution_count": 2,
   "metadata": {},
   "outputs": [
    {
     "name": "stdout",
     "output_type": "stream",
     "text": [
      "25\n"
     ]
    }
   ],
   "source": [
    "# global variables\n",
    "a = 15\n",
    "b = 10\n",
    "\n",
    "# function to perform addition\n",
    "def add():\n",
    "    c = a + b  # accessing global variables\n",
    "    print(c)\n",
    "\n",
    "# calling the function\n",
    "add()\n"
   ]
  },
  {
   "cell_type": "code",
   "execution_count": 7,
   "metadata": {},
   "outputs": [
    {
     "name": "stdout",
     "output_type": "stream",
     "text": [
      "before [10, 20, 30]\n",
      "after [20, 30, 40]\n"
     ]
    }
   ],
   "source": [
    "a = [10, 20, 30]\n",
    "\n",
    "\n",
    "def fun():\n",
    "    for i in range(len(a)):\n",
    "        a[i] += 10\n",
    "\n",
    "\n",
    "print(\"before\", a)\n",
    "fun()\n",
    "print(\"after\", a)\n"
   ]
  },
  {
   "cell_type": "code",
   "execution_count": 8,
   "metadata": {},
   "outputs": [
    {
     "name": "stdout",
     "output_type": "stream",
     "text": [
      "before [10, 20, 30]\n",
      "after [20, 30, 40]\n"
     ]
    }
   ],
   "source": [
    "a = [10, 20, 30]\n",
    "\n",
    "def fun():\n",
    "    global a\n",
    "    a = [20, 30, 40]\n",
    "\n",
    "\n",
    "print(\"before\", a)\n",
    "fun()\n",
    "print(\"after\", a)\n"
   ]
  },
  {
   "cell_type": "code",
   "execution_count": 9,
   "metadata": {},
   "outputs": [
    {
     "name": "stdout",
     "output_type": "stream",
     "text": [
      "Before changing: 15\n",
      "Making change\n",
      "After changing: 15\n",
      "Value of x outside: 20\n"
     ]
    }
   ],
   "source": [
    "def add():\n",
    "    x = 15\n",
    "    def change():\n",
    "        global x  # Declare x as global to modify it inside the nested function\n",
    "        x = 20\n",
    "    print(\"Before changing:\", x)\n",
    "    print(\"Making change\")\n",
    "    change()\n",
    "    print(\"After changing:\", x)\n",
    "\n",
    "add()\n",
    "print(\"Value of x outside:\", x)\n"
   ]
  },
  {
   "cell_type": "code",
   "execution_count": 12,
   "metadata": {},
   "outputs": [
    {
     "name": "stdout",
     "output_type": "stream",
     "text": [
      "hello\n"
     ]
    }
   ],
   "source": [
    "#Non Local variable\n",
    "def myfunc1():\n",
    "  x = \"John\"\n",
    "  def myfunc2():\n",
    "    nonlocal x\n",
    "    x = \"hello\"\n",
    "  myfunc2()\n",
    "  return x\n",
    "\n",
    "print(myfunc1()) "
   ]
  },
  {
   "cell_type": "code",
   "execution_count": null,
   "metadata": {},
   "outputs": [
    {
     "name": "stdout",
     "output_type": "stream",
     "text": [
      "John\n"
     ]
    }
   ],
   "source": [
    "#Same example as above, but without the nonlocal keyword.\n",
    "def myfunc1():\n",
    "  x = \"John\"\n",
    "  def myfunc2():\n",
    "    x = \"hello\"\n",
    "  myfunc2()\n",
    "  return x\n",
    "\n",
    "print(myfunc1()) "
   ]
  },
  {
   "cell_type": "code",
   "execution_count": null,
   "metadata": {},
   "outputs": [],
   "source": []
  },
  {
   "cell_type": "code",
   "execution_count": null,
   "metadata": {},
   "outputs": [],
   "source": []
  },
  {
   "cell_type": "code",
   "execution_count": null,
   "metadata": {},
   "outputs": [],
   "source": []
  },
  {
   "cell_type": "code",
   "execution_count": null,
   "metadata": {},
   "outputs": [],
   "source": []
  }
 ],
 "metadata": {
  "kernelspec": {
   "display_name": "Python 3",
   "language": "python",
   "name": "python3"
  },
  "language_info": {
   "codemirror_mode": {
    "name": "ipython",
    "version": 3
   },
   "file_extension": ".py",
   "mimetype": "text/x-python",
   "name": "python",
   "nbconvert_exporter": "python",
   "pygments_lexer": "ipython3",
   "version": "3.10.12"
  }
 },
 "nbformat": 4,
 "nbformat_minor": 2
}
