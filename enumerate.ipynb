{
 "cells": [
  {
   "cell_type": "code",
   "execution_count": 6,
   "metadata": {},
   "outputs": [
    {
     "name": "stdout",
     "output_type": "stream",
     "text": [
      "Index 0: Shorthills\n",
      "Index 1: AI\n",
      "Index 2: Gurgram\n",
      "[(0, 'Shorthills'), (1, 'AI'), (2, 'Gurgram')]\n"
     ]
    }
   ],
   "source": [
    "a = [\"Shorthills\", \"AI\", \"Gurgram\"]\n",
    "\n",
    "# Iterating list using enumerate to get both index and element\n",
    "for i, name in enumerate(a):\n",
    "    print(f\"Index {i}: {name}\")\n",
    "\n",
    "# Converting to a list of tuples\n",
    "print(list(enumerate(a)))\n"
   ]
  },
  {
   "cell_type": "code",
   "execution_count": 7,
   "metadata": {},
   "outputs": [
    {
     "name": "stdout",
     "output_type": "stream",
     "text": [
      "1 Shorthills\n",
      "2 AI\n",
      "3 Gurgram\n"
     ]
    }
   ],
   "source": [
    "#Looping through the list using enumerate\n",
    "# starting the index from 1\n",
    "for index, x in enumerate(a, start=1):\n",
    "    print(index, x)\n"
   ]
  },
  {
   "cell_type": "code",
   "execution_count": 8,
   "metadata": {},
   "outputs": [
    {
     "name": "stdout",
     "output_type": "stream",
     "text": [
      "(0, 'Shorthills')\n",
      "(1, 'AI')\n",
      "(2, 'Gurgram')\n"
     ]
    }
   ],
   "source": [
    "# printing the tuples in object directly\n",
    "for ele in enumerate(a):\n",
    "    print (ele)"
   ]
  },
  {
   "cell_type": "code",
   "execution_count": 20,
   "metadata": {},
   "outputs": [
    {
     "name": "stdout",
     "output_type": "stream",
     "text": [
      "(0, 'Shorthills')\n"
     ]
    }
   ],
   "source": [
    "# Creating an enumerate object from the list 'a' \n",
    "b = enumerate(a)\n",
    "\n",
    "# This retrieves the first index-element pair from 'b'\n",
    "nxt_val = next(b)\n",
    "print(nxt_val)"
   ]
  },
  {
   "cell_type": "markdown",
   "metadata": {},
   "source": []
  },
  {
   "cell_type": "code",
   "execution_count": null,
   "metadata": {},
   "outputs": [],
   "source": []
  },
  {
   "cell_type": "code",
   "execution_count": null,
   "metadata": {},
   "outputs": [],
   "source": []
  }
 ],
 "metadata": {
  "kernelspec": {
   "display_name": "Python 3",
   "language": "python",
   "name": "python3"
  },
  "language_info": {
   "codemirror_mode": {
    "name": "ipython",
    "version": 3
   },
   "file_extension": ".py",
   "mimetype": "text/x-python",
   "name": "python",
   "nbconvert_exporter": "python",
   "pygments_lexer": "ipython3",
   "version": "3.10.12"
  }
 },
 "nbformat": 4,
 "nbformat_minor": 2
}
