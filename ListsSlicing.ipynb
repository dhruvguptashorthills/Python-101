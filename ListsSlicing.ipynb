{
 "cells": [
  {
   "cell_type": "code",
   "execution_count": 1,
   "metadata": {},
   "outputs": [
    {
     "name": "stdout",
     "output_type": "stream",
     "text": [
      "[2, 3, 4]\n"
     ]
    }
   ],
   "source": [
    "a = [1, 2, 3, 4, 5, 6, 7, 8, 9]\n",
    "\n",
    "# Get elements from index 1 to 4 (excluded)\n",
    "print(a[1:4])"
   ]
  },
  {
   "cell_type": "code",
   "execution_count": 2,
   "metadata": {},
   "outputs": [
    {
     "name": "stdout",
     "output_type": "stream",
     "text": [
      "[1, 2, 3, 4, 5, 6, 7, 8, 9]\n"
     ]
    }
   ],
   "source": [
    "print(a[:])"
   ]
  },
  {
   "cell_type": "code",
   "execution_count": 3,
   "metadata": {},
   "outputs": [
    {
     "name": "stdout",
     "output_type": "stream",
     "text": [
      "[3, 4, 5, 6, 7, 8, 9]\n",
      "[1, 2, 3]\n"
     ]
    }
   ],
   "source": [
    "# to the end of the list\n",
    "b = a[2:]\n",
    "print(b)\n",
    "\n",
    "# Get elements starting from index 0 \n",
    "# to index 3 (excluding 3th index)\n",
    "c = a[:3]\n",
    "print(c)"
   ]
  },
  {
   "cell_type": "code",
   "execution_count": 4,
   "metadata": {},
   "outputs": [
    {
     "name": "stdout",
     "output_type": "stream",
     "text": [
      "[1, 3, 5, 7, 9]\n",
      "[2, 5, 8]\n"
     ]
    }
   ],
   "source": [
    "# Get every second element from the list\n",
    "# starting from the beginning\n",
    "b = a[::2]\n",
    "print(b)\n",
    "\n",
    "# Get every third element from the list\n",
    "# starting from index 2 to 8(exclusive)\n",
    "c = a[1:8:3]\n",
    "print(c)"
   ]
  },
  {
   "cell_type": "code",
   "execution_count": 5,
   "metadata": {},
   "outputs": [
    {
     "name": "stdout",
     "output_type": "stream",
     "text": [
      "[8, 9]\n",
      "[1, 2, 3, 4, 5, 6]\n",
      "[6, 7, 8]\n",
      "[2, 4, 6, 8]\n"
     ]
    }
   ],
   "source": [
    "# Get elements starting from index -2\n",
    "# to end of list\n",
    "b = a[-2:]\n",
    "print(b)\n",
    "\n",
    "# Get elements starting from index 0 \n",
    "# to index -3 (excluding 3th last index)\n",
    "c = a[:-3]\n",
    "print(c)\n",
    "\n",
    "# Get elements from index -4\n",
    "# to -1 (excluding index -1)\n",
    "d = a[-4:-1]\n",
    "print(d)\n",
    "\n",
    "# Get every 2nd elements from index -8\n",
    "# to -1 (excluding index -1)\n",
    "e = a[-8:-1:2]\n",
    "print(e)"
   ]
  }
 ],
 "metadata": {
  "kernelspec": {
   "display_name": "Python 3",
   "language": "python",
   "name": "python3"
  },
  "language_info": {
   "codemirror_mode": {
    "name": "ipython",
    "version": 3
   },
   "file_extension": ".py",
   "mimetype": "text/x-python",
   "name": "python",
   "nbconvert_exporter": "python",
   "pygments_lexer": "ipython3",
   "version": "3.10.12"
  }
 },
 "nbformat": 4,
 "nbformat_minor": 2
}
