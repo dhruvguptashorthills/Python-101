{
 "cells": [
  {
   "cell_type": "code",
   "execution_count": 2,
   "metadata": {},
   "outputs": [
    {
     "name": "stdout",
     "output_type": "stream",
     "text": [
      "Integer to float: 10.0\n"
     ]
    }
   ],
   "source": [
    "# Integer to float\n",
    "int_value = 10\n",
    "float_value = float(int_value)\n",
    "print(f\"Integer to float: {float_value}\")\n",
    "\n"
   ]
  },
  {
   "cell_type": "code",
   "execution_count": 3,
   "metadata": {},
   "outputs": [
    {
     "name": "stdout",
     "output_type": "stream",
     "text": [
      "Float to integer: 10\n"
     ]
    }
   ],
   "source": [
    "# Float to integer\n",
    "float_value = 10.75\n",
    "int_value = int(float_value)\n",
    "print(f\"Float to integer: {int_value}\")\n",
    "\n"
   ]
  },
  {
   "cell_type": "code",
   "execution_count": 4,
   "metadata": {},
   "outputs": [
    {
     "name": "stdout",
     "output_type": "stream",
     "text": [
      "String to integer: 123\n"
     ]
    }
   ],
   "source": [
    "# String to integer\n",
    "str_value = \"123\"\n",
    "int_value = int(str_value)\n",
    "print(f\"String to integer: {int_value}\")\n",
    "\n"
   ]
  },
  {
   "cell_type": "code",
   "execution_count": 5,
   "metadata": {},
   "outputs": [
    {
     "name": "stdout",
     "output_type": "stream",
     "text": [
      "Integer to string: 123\n"
     ]
    }
   ],
   "source": [
    "# Integer to string\n",
    "int_value = 123\n",
    "str_value = str(int_value)\n",
    "print(f\"Integer to string: {str_value}\")\n",
    "\n"
   ]
  },
  {
   "cell_type": "code",
   "execution_count": 6,
   "metadata": {},
   "outputs": [
    {
     "name": "stdout",
     "output_type": "stream",
     "text": [
      "String to float: 123.45\n"
     ]
    }
   ],
   "source": [
    "# String to float\n",
    "str_value = \"123.45\"\n",
    "float_value = float(str_value)\n",
    "print(f\"String to float: {float_value}\")\n",
    "\n"
   ]
  },
  {
   "cell_type": "code",
   "execution_count": 7,
   "metadata": {},
   "outputs": [
    {
     "name": "stdout",
     "output_type": "stream",
     "text": [
      "Float to string: 123.45\n"
     ]
    }
   ],
   "source": [
    "# Float to string\n",
    "float_value = 123.45\n",
    "str_value = str(float_value)\n",
    "print(f\"Float to string: {str_value}\")"
   ]
  }
 ],
 "metadata": {
  "kernelspec": {
   "display_name": "Python 3",
   "language": "python",
   "name": "python3"
  },
  "language_info": {
   "codemirror_mode": {
    "name": "ipython",
    "version": 3
   },
   "file_extension": ".py",
   "mimetype": "text/x-python",
   "name": "python",
   "nbconvert_exporter": "python",
   "pygments_lexer": "ipython3",
   "version": "3.10.12"
  }
 },
 "nbformat": 4,
 "nbformat_minor": 2
}
