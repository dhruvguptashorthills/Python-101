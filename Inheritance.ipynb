{
 "cells": [
  {
   "cell_type": "markdown",
   "metadata": {},
   "source": [
    "# Inheritance"
   ]
  },
  {
   "cell_type": "markdown",
   "metadata": {},
   "source": [
    "## Single Inheritance"
   ]
  },
  {
   "cell_type": "code",
   "execution_count": 1,
   "metadata": {},
   "outputs": [
    {
     "name": "stdout",
     "output_type": "stream",
     "text": [
      "Animal speaks\n",
      "Dog barks\n"
     ]
    }
   ],
   "source": [
    "class Animal:\n",
    "    def speak(self):\n",
    "        return 'Animal speaks'\n",
    "\n",
    "class Dog(Animal):\n",
    "    def bark(self):\n",
    "        return 'Dog barks'\n",
    "\n",
    "dog = Dog()\n",
    "print(dog.speak())  # Output: Animal speaks\n",
    "print(dog.bark())   # Output: Dog barks"
   ]
  },
  {
   "cell_type": "markdown",
   "metadata": {},
   "source": [
    "## Multiple Inheritance"
   ]
  },
  {
   "cell_type": "code",
   "execution_count": 2,
   "metadata": {},
   "outputs": [
    {
     "name": "stdout",
     "output_type": "stream",
     "text": [
      "Flying\n",
      "Swimming\n"
     ]
    }
   ],
   "source": [
    "class Flyer:\n",
    "    def fly(self):\n",
    "        return 'Flying'\n",
    "\n",
    "class Swimmer:\n",
    "    def swim(self):\n",
    "        return 'Swimming'\n",
    "\n",
    "class Duck(Flyer, Swimmer):\n",
    "    pass\n",
    "\n",
    "duck = Duck()\n",
    "print(duck.fly())   # Output: Flying\n",
    "print(duck.swim())  # Output: Swimming"
   ]
  },
  {
   "cell_type": "markdown",
   "metadata": {},
   "source": [
    "## Multilevel Inheritance"
   ]
  },
  {
   "cell_type": "code",
   "execution_count": 3,
   "metadata": {},
   "outputs": [
    {
     "name": "stdout",
     "output_type": "stream",
     "text": [
      "Vehicle starting\n",
      "Car driving\n",
      "SportsCar racing\n"
     ]
    }
   ],
   "source": [
    "class Vehicle:\n",
    "    def start(self):\n",
    "        return 'Vehicle starting'\n",
    "\n",
    "class Car(Vehicle):\n",
    "    def drive(self):\n",
    "        return 'Car driving'\n",
    "\n",
    "class SportsCar(Car):\n",
    "    def race(self):\n",
    "        return 'SportsCar racing'\n",
    "\n",
    "sports_car = SportsCar()\n",
    "print(sports_car.start())  # Output: Vehicle starting\n",
    "print(sports_car.drive())  # Output: Car driving\n",
    "print(sports_car.race())   # Output: SportsCar racing"
   ]
  },
  {
   "cell_type": "markdown",
   "metadata": {},
   "source": [
    "## Hierarchical Inheritance"
   ]
  },
  {
   "cell_type": "code",
   "execution_count": 4,
   "metadata": {},
   "outputs": [
    {
     "name": "stdout",
     "output_type": "stream",
     "text": [
      "Parent method\n",
      "Child1 method\n",
      "Parent method\n",
      "Child2 method\n"
     ]
    }
   ],
   "source": [
    "class Parent:\n",
    "    def parent_method(self):\n",
    "        return 'Parent method'\n",
    "\n",
    "class Child1(Parent):\n",
    "    def child1_method(self):\n",
    "        return 'Child1 method'\n",
    "\n",
    "class Child2(Parent):\n",
    "    def child2_method(self):\n",
    "        return 'Child2 method'\n",
    "\n",
    "child1 = Child1()\n",
    "child2 = Child2()\n",
    "print(child1.parent_method())  # Output: Parent method\n",
    "print(child1.child1_method())  # Output: Child1 method\n",
    "print(child2.parent_method())  # Output: Parent method\n",
    "print(child2.child2_method())  # Output: Child2 method"
   ]
  },
  {
   "cell_type": "code",
   "execution_count": null,
   "metadata": {},
   "outputs": [],
   "source": []
  }
 ],
 "metadata": {
  "kernelspec": {
   "display_name": "Python 3",
   "language": "python",
   "name": "python3"
  },
  "language_info": {
   "codemirror_mode": {
    "name": "ipython",
    "version": 3
   },
   "file_extension": ".py",
   "mimetype": "text/x-python",
   "name": "python",
   "nbconvert_exporter": "python",
   "pygments_lexer": "ipython3",
   "version": "3.10.12"
  }
 },
 "nbformat": 4,
 "nbformat_minor": 4
}
