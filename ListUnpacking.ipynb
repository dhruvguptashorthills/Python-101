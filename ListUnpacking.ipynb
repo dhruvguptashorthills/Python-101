{
 "cells": [
  {
   "cell_type": "code",
   "execution_count": null,
   "metadata": {},
   "outputs": [],
   "source": [
    "colors = ['red', 'blue', 'green'] #list"
   ]
  },
  {
   "cell_type": "code",
   "execution_count": null,
   "metadata": {},
   "outputs": [
    {
     "name": "stdout",
     "output_type": "stream",
     "text": [
      "red blue green\n"
     ]
    }
   ],
   "source": [
    "# print the elements in the colors list\n",
    "red = colors[0]\n",
    "blue = colors[1]\n",
    "green = colors[2]\n",
    "print(red,blue,green)\n"
   ]
  },
  {
   "cell_type": "code",
   "execution_count": null,
   "metadata": {},
   "outputs": [
    {
     "name": "stdout",
     "output_type": "stream",
     "text": [
      "red blue green\n"
     ]
    }
   ],
   "source": [
    "# unpack the colors list into three variables\n",
    "red, blue, green = colors\n",
    "print(red,blue,green)\n"
   ]
  },
  {
   "cell_type": "code",
   "execution_count": null,
   "metadata": {},
   "outputs": [
    {
     "name": "stdout",
     "output_type": "stream",
     "text": [
      "ValueError: not enough values to unpack (expected 2, got 3)\n"
     ]
    }
   ],
   "source": [
    "# unpack the colors list with only two variables\n",
    "# this will raise a ValueError\n",
    "try:\n",
    "    red, blue = colors\n",
    "    print(red,blue,green)\n",
    "except:\n",
    "    print('ValueError: not enough values to unpack (expected 2, got 3)')\n",
    "\n"
   ]
  },
  {
   "cell_type": "code",
   "execution_count": null,
   "metadata": {},
   "outputs": [
    {
     "name": "stdout",
     "output_type": "stream",
     "text": [
      "red blue ['green']\n"
     ]
    }
   ],
   "source": [
    "# unpack the colors list with three variables\n",
    "# and a star to catch the remaining values\n",
    "red, blue, *other = colors\n",
    "\n",
    "print(red,blue,other)"
   ]
  },
  {
   "cell_type": "code",
   "execution_count": null,
   "metadata": {},
   "outputs": [
    {
     "name": "stdout",
     "output_type": "stream",
     "text": [
      "cyan magenta ['yellow', 'black']\n"
     ]
    }
   ],
   "source": [
    "# unpack the colors list with three variables\n",
    "# and a star to catch the remaining values\n",
    "olors = ['cyan', 'magenta', 'yellow', 'black']\n",
    "cyan, magenta, *other = colors\n",
    "\n",
    "print(cyan,magenta,other)"
   ]
  },
  {
   "cell_type": "code",
   "execution_count": null,
   "metadata": {},
   "outputs": [],
   "source": []
  }
 ],
 "metadata": {
  "kernelspec": {
   "display_name": "Python 3",
   "language": "python",
   "name": "python3"
  },
  "language_info": {
   "codemirror_mode": {
    "name": "ipython",
    "version": 3
   },
   "file_extension": ".py",
   "mimetype": "text/x-python",
   "name": "python",
   "nbconvert_exporter": "python",
   "pygments_lexer": "ipython3",
   "version": "3.10.12"
  }
 },
 "nbformat": 4,
 "nbformat_minor": 2
}
