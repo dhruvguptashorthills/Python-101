{
 "cells": [
  {
   "cell_type": "code",
   "execution_count": null,
   "metadata": {},
   "outputs": [
    {
     "name": "stdout",
     "output_type": "stream",
     "text": [
      "A = [[1, 4, 5, 12], [-5, -8, 9, 0], [-6, 7, 1, 9]]\n",
      "A[0] = [-5, -8, 9, 0]\n",
      "A[1][2] = 9\n",
      "A[0][-1] = 12\n",
      "3rd column = [5, 9, 1]\n"
     ]
    }
   ],
   "source": [
    "A = [[1, 4, 5, 12], \n",
    "    [-5, -8, 9, 0],\n",
    "    [-6, 7, 1, 9]]\n",
    "\n",
    "print(\"A =\", A) \n",
    "print(\"A[0] =\", A[1])      # 2nd row\n",
    "print(\"A[1][2] =\", A[1][2])   # 3rd element of 2nd row\n",
    "print(\"A[0][-1] =\", A[0][-1])   # Last element of 1st Row\n",
    "\n",
    "column = [];        # empty list\n",
    "for row in A:\n",
    "  column.append(row[2])   \n",
    "\n",
    "print(\"3rd column =\", column)"
   ]
  },
  {
   "cell_type": "code",
   "execution_count": null,
   "metadata": {},
   "outputs": [
    {
     "name": "stdout",
     "output_type": "stream",
     "text": [
      "[10 20 30]\n",
      "<class 'numpy.ndarray'>\n"
     ]
    }
   ],
   "source": [
    "import numpy as np\n",
    "\n",
    "a = np.array([10, 20, 30])\n",
    "print(a)               # Output: [1, 2, 3]\n",
    "print(type(a))         # Output: <class 'numpy.ndarray'>"
   ]
  },
  {
   "cell_type": "code",
   "execution_count": 7,
   "metadata": {},
   "outputs": [
    {
     "name": "stdout",
     "output_type": "stream",
     "text": [
      "[[1 2 3]\n",
      " [3 4 5]]\n",
      "[[1.1 2.2 3.3]\n",
      " [3.3 4.4 5.5]]\n",
      "[[1.+0.j 2.+0.j 3.+0.j]\n",
      " [3.+0.j 4.+0.j 5.+0.j]]\n"
     ]
    }
   ],
   "source": [
    "A = np.array([[1, 2, 3], [3, 4, 5]])\n",
    "print(A)\n",
    "\n",
    "A = np.array([[1.1, 2.2, 3.3], [3.3, 4.4, 5.5]]) # Array of floats\n",
    "print(A)\n",
    "\n",
    "A = np.array([[1, 2, 3], [3, 4, 5]], dtype = complex) # Array of complex numbers\n",
    "print(A)"
   ]
  },
  {
   "cell_type": "code",
   "execution_count": 8,
   "metadata": {},
   "outputs": [
    {
     "name": "stdout",
     "output_type": "stream",
     "text": [
      "[[0. 0. 0.]\n",
      " [0. 0. 0.]]\n",
      "[[1 1 1 1 1]]\n"
     ]
    }
   ],
   "source": [
    "zeros_array = np.zeros( (2, 3) )\n",
    "print(zeros_array)\n",
    "\n",
    "\n",
    "ones_array = np.ones( (1, 5), dtype=np.int32 ) \n",
    "print(ones_array)      "
   ]
  },
  {
   "cell_type": "code",
   "execution_count": 10,
   "metadata": {},
   "outputs": [
    {
     "name": "stdout",
     "output_type": "stream",
     "text": [
      "A = [0 1 2 3 4 5 6 7]\n",
      "B = [[ 0  1  2  3]\n",
      " [ 4  5  6  7]\n",
      " [ 8  9 10 11]]\n"
     ]
    }
   ],
   "source": [
    "A = np.arange(8)\n",
    "print('A =', A)\n",
    "\n",
    "B = np.arange(12).reshape(3,4)\n",
    "print('B =', B)"
   ]
  },
  {
   "cell_type": "code",
   "execution_count": 11,
   "metadata": {},
   "outputs": [
    {
     "name": "stdout",
     "output_type": "stream",
     "text": [
      "[[11  1]\n",
      " [ 8  0]]\n"
     ]
    }
   ],
   "source": [
    "A = np.array([[2, 4], [5, -6]])\n",
    "B = np.array([[9, -3], [3, 6]])\n",
    "C = A + B      # element wise addition\n",
    "print(C)"
   ]
  },
  {
   "cell_type": "code",
   "execution_count": 15,
   "metadata": {},
   "outputs": [
    {
     "name": "stdout",
     "output_type": "stream",
     "text": [
      "[[ 3  6  7]\n",
      " [ 5 -3  0]]\n",
      "[[ 1  1]\n",
      " [ 2  1]\n",
      " [ 3 -3]]\n",
      "[[ 36 -12]\n",
      " [ -1   2]]\n"
     ]
    }
   ],
   "source": [
    "A = np.array([[3, 6, 7], [5, -3, 0]])\n",
    "B = np.array([[1, 1], [2, 1], [3, -3]])\n",
    "C = A.dot(B)\n",
    "print(A)\n",
    "print(B)\n",
    "\n",
    "print(C)"
   ]
  },
  {
   "cell_type": "code",
   "execution_count": null,
   "metadata": {},
   "outputs": [],
   "source": [
    "A = np.array([[1, 1], [2, 1], [3, -3]])\n",
    "print(A.transpose())"
   ]
  },
  {
   "cell_type": "code",
   "execution_count": 16,
   "metadata": {},
   "outputs": [
    {
     "name": "stdout",
     "output_type": "stream",
     "text": [
      "[[ 1  4  5 12]\n",
      " [-5  8  9  0]]\n",
      "[[ 1  4  5 12 14]]\n",
      "[ 5  9 11]\n",
      "[[ 5 12 14]\n",
      " [ 9  0 17]\n",
      " [11 19 21]]\n"
     ]
    }
   ],
   "source": [
    "A = np.array([[1, 4, 5, 12, 14], \n",
    "    [-5, 8, 9, 0, 17],\n",
    "    [-6, 7, 11, 19, 21]])\n",
    "\n",
    "print(A[:2, :4])  # two rows, four columns\n",
    "print(A[:1,])  # first row, all columns\n",
    "print(A[:,2])  # all rows, second column\n",
    "print(A[:, 2:5])  # all rows, third to the fifth column\n",
    "\n"
   ]
  },
  {
   "cell_type": "code",
   "execution_count": null,
   "metadata": {},
   "outputs": [],
   "source": []
  },
  {
   "cell_type": "code",
   "execution_count": null,
   "metadata": {},
   "outputs": [],
   "source": []
  }
 ],
 "metadata": {
  "kernelspec": {
   "display_name": "Python 3",
   "language": "python",
   "name": "python3"
  },
  "language_info": {
   "codemirror_mode": {
    "name": "ipython",
    "version": 3
   },
   "file_extension": ".py",
   "mimetype": "text/x-python",
   "name": "python",
   "nbconvert_exporter": "python",
   "pygments_lexer": "ipython3",
   "version": "3.10.12"
  }
 },
 "nbformat": 4,
 "nbformat_minor": 2
}
