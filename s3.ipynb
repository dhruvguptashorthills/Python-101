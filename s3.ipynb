{
 "cells": [
  {
   "cell_type": "code",
   "execution_count": null,
   "metadata": {},
   "outputs": [
    {
     "name": "stdout",
     "output_type": "stream",
     "text": [
      "File uploaded successfully!\n"
     ]
    }
   ],
   "source": [
    "import boto3\n",
    "\n",
    "client = boto3.client('s3')\n",
    "\n",
    "bucket = \"s3-first-file-upload\"\n",
    "file = \"data.csv\"\n",
    "\n",
    "\n",
    "client.upload_file(file, bucket, file)\n",
    "\n",
    "print(\"File uploaded successfully!\")"
   ]
  },
  {
   "cell_type": "code",
   "execution_count": 27,
   "metadata": {},
   "outputs": [
    {
     "name": "stdout",
     "output_type": "stream",
     "text": [
      "File Content:\n",
      ",,,\n",
      ",,,\n",
      ",Last Name,First Name,Hourly Wage \n",
      ",Gupta,Vaibhav,$16.00 \n",
      ",Singh,Anshuman,$12.00 \n",
      ",Rao,Kiran,$10.00 \n",
      ",kumar,Shubham,$6.00 \n",
      ",Dhingra,Pratham,$12.00 \n",
      ",saini,amit,$17.00 \n",
      "\n"
     ]
    }
   ],
   "source": [
    "import boto3\n",
    "\n",
    "# Initialize S3 client\n",
    "client = boto3.client('s3')\n",
    "\n",
    "# S3 bucket and file details\n",
    "bucket = \"s3-first-file-upload\"\n",
    "file_key = \"data.csv\"\n",
    "\n",
    "# Fetch file content\n",
    "response = client.get_object(Bucket=bucket, Key=file_key)\n",
    "\n",
    "# Read file content\n",
    "data = response['Body'].read().decode('utf-8')\n",
    "\n",
    "# Print the content\n",
    "print(\"File Content:\")\n",
    "print(data)\n"
   ]
  },
  {
   "cell_type": "code",
   "execution_count": null,
   "metadata": {},
   "outputs": [
    {
     "name": "stdout",
     "output_type": "stream",
     "text": [
      "s3-first-file-upload\n"
     ]
    }
   ],
   "source": [
    "# List all buckets\n",
    "s3 = boto3.client('s3')\n",
    "response = s3.list_buckets()\n",
    "for bucket in response['Buckets']:\n",
    "    print(bucket['Name'])"
   ]
  },
  {
   "cell_type": "code",
   "execution_count": null,
   "metadata": {},
   "outputs": [
    {
     "name": "stdout",
     "output_type": "stream",
     "text": [
      "data.csv\n"
     ]
    }
   ],
   "source": [
    "# List all files in a bucket\n",
    "bucket_name = \"s3-first-file-upload\"\n",
    "response = s3.list_objects_v2(Bucket=bucket_name)\n",
    "if 'Contents' in response:\n",
    "    for obj in response['Contents']:\n",
    "        print(obj['Key'])\n",
    "else:\n",
    "    print(\"No files found in the bucket.\")"
   ]
  },
  {
   "cell_type": "code",
   "execution_count": null,
   "metadata": {},
   "outputs": [],
   "source": []
  }
 ],
 "metadata": {
  "kernelspec": {
   "display_name": "Python 3",
   "language": "python",
   "name": "python3"
  },
  "language_info": {
   "codemirror_mode": {
    "name": "ipython",
    "version": 3
   },
   "file_extension": ".py",
   "mimetype": "text/x-python",
   "name": "python",
   "nbconvert_exporter": "python",
   "pygments_lexer": "ipython3",
   "version": "3.10.12"
  }
 },
 "nbformat": 4,
 "nbformat_minor": 2
}
