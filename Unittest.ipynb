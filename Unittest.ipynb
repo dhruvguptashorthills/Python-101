{
 "cells": [
  {
   "cell_type": "markdown",
   "metadata": {},
   "source": [
    "# Unit Testing in Python with unittest\n",
    "\n",
    "Unit testing is a software testing technique where individual units or components of a software are tested. The purpose is to validate that each unit of the software performs as expected. In Python, the `unittest` module is used to create and run unit tests."
   ]
  },
  {
   "cell_type": "markdown",
   "metadata": {},
   "source": [
    "## Example Function to Test\n",
    "\n",
    "Let's start with a simple function that we want to test. This function adds two numbers."
   ]
  },
  {
   "cell_type": "code",
   "execution_count": 4,
   "metadata": {},
   "outputs": [],
   "source": [
    "# Function to be tested\n",
    "def add(a, b):\n",
    "    return a + b\n",
    "# Function to be tested\n",
    "def multiply(a, b):\n",
    "    return a * b"
   ]
  },
  {
   "cell_type": "markdown",
   "metadata": {},
   "source": [
    "## Writing Unit Tests\n",
    "\n",
    "To write unit tests, we create a class that inherits from `unittest.TestCase`. Inside this class, we define methods to test different aspects of the function."
   ]
  },
  {
   "cell_type": "code",
   "execution_count": 7,
   "metadata": {},
   "outputs": [],
   "source": [
    "import unittest\n",
    "\n",
    "# Unit test class\n",
    "class TestMathOperations(unittest.TestCase):\n",
    "    def test_add(self):\n",
    "        self.assertEqual(add(2, 3), 5)\n",
    "        self.assertEqual(add(-1, 1), 0)\n",
    "        self.assertEqual(add(2, 2), 4) \n",
    "\n",
    "    def test_add_floats(self):\n",
    "        self.assertAlmostEqual(add(2.5, 3.1), 5.6, places=1)\n",
    "\n",
    "    def test_multiply(self):\n",
    "        self.assertEqual(multiply(2, 3), 6)\n",
    "        self.assertEqual(multiply(-1, 1), -1)\n",
    "\n",
    "    def test_multiply_floats(self):\n",
    "        self.assertAlmostEqual(multiply(2.5, 3.1), 7.75, places=2)"
   ]
  },
  {
   "cell_type": "code",
   "execution_count": 8,
   "metadata": {},
   "outputs": [
    {
     "name": "stderr",
     "output_type": "stream",
     "text": [
      "....\n",
      "----------------------------------------------------------------------\n",
      "Ran 4 tests in 0.003s\n",
      "\n",
      "OK\n"
     ]
    }
   ],
   "source": [
    "if __name__ == '__main__':\n",
    "    unittest.main(argv=[''], exit=False)"
   ]
  },
  {
   "cell_type": "markdown",
   "metadata": {},
   "source": []
  },
  {
   "cell_type": "code",
   "execution_count": null,
   "metadata": {},
   "outputs": [],
   "source": []
  }
 ],
 "metadata": {
  "kernelspec": {
   "display_name": "Python 3",
   "language": "python",
   "name": "python3"
  },
  "language_info": {
   "codemirror_mode": {
    "name": "ipython",
    "version": 3
   },
   "file_extension": ".py",
   "mimetype": "text/x-python",
   "name": "python",
   "nbconvert_exporter": "python",
   "pygments_lexer": "ipython3",
   "version": "3.10.12"
  }
 },
 "nbformat": 4,
 "nbformat_minor": 2
}
