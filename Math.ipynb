{
 "cells": [
  {
   "cell_type": "code",
   "execution_count": 2,
   "metadata": {},
   "outputs": [],
   "source": [
    "import math"
   ]
  },
  {
   "cell_type": "code",
   "execution_count": 3,
   "metadata": {},
   "outputs": [
    {
     "name": "stdout",
     "output_type": "stream",
     "text": [
      "2 raised to the power of 3 is 8.0\n"
     ]
    }
   ],
   "source": [
    "# Example 1: Power function\n",
    "x = 2\n",
    "y = 3\n",
    "result = math.pow(x, y)\n",
    "print(f'{x} raised to the power of {y} is {result}')\n"
   ]
  },
  {
   "cell_type": "code",
   "execution_count": 4,
   "metadata": {},
   "outputs": [
    {
     "name": "stdout",
     "output_type": "stream",
     "text": [
      "Square root of 16 is 4.0\n"
     ]
    }
   ],
   "source": [
    "# Example 2: Square root function\n",
    "x = 16\n",
    "result = math.sqrt(x)\n",
    "print(f'Square root of {x} is {result}')\n"
   ]
  },
  {
   "cell_type": "code",
   "execution_count": 5,
   "metadata": {},
   "outputs": [
    {
     "name": "stdout",
     "output_type": "stream",
     "text": [
      "Sine of 45 degrees is 0.7071067811865475\n",
      "Cosine of 45 degrees is 0.7071067811865476\n"
     ]
    }
   ],
   "source": [
    "# Example 3: Trigonometric functions\n",
    "angle = math.pi / 4  # 45 degrees\n",
    "sin_result = math.sin(angle)\n",
    "cos_result = math.cos(angle)\n",
    "print(f'Sine of 45 degrees is {sin_result}')\n",
    "print(f'Cosine of 45 degrees is {cos_result}')\n"
   ]
  },
  {
   "cell_type": "code",
   "execution_count": 6,
   "metadata": {},
   "outputs": [
    {
     "name": "stdout",
     "output_type": "stream",
     "text": [
      "Natural logarithm of 10 is 2.302585092994046\n",
      "Base-10 logarithm of 10 is 1.0\n"
     ]
    }
   ],
   "source": [
    "# Example 4: Logarithmic functions\n",
    "x = 10\n",
    "log_result = math.log(x)  # Natural logarithm\n",
    "log10_result = math.log10(x)  # Base-10 logarithm\n",
    "print(f'Natural logarithm of {x} is {log_result}')\n",
    "print(f'Base-10 logarithm of {x} is {log10_result}')\n"
   ]
  },
  {
   "cell_type": "code",
   "execution_count": 7,
   "metadata": {},
   "outputs": [
    {
     "name": "stdout",
     "output_type": "stream",
     "text": [
      "Factorial of 5 is 120\n"
     ]
    }
   ],
   "source": [
    "x = 5\n",
    "result = math.factorial(x)\n",
    "print(f'Factorial of {x} is {result}')"
   ]
  }
 ],
 "metadata": {
  "kernelspec": {
   "display_name": "Python 3",
   "language": "python",
   "name": "python3"
  },
  "language_info": {
   "codemirror_mode": {
    "name": "ipython",
    "version": 3
   },
   "file_extension": ".py",
   "mimetype": "text/x-python",
   "name": "python",
   "nbconvert_exporter": "python",
   "pygments_lexer": "ipython3",
   "version": "3.10.12"
  }
 },
 "nbformat": 4,
 "nbformat_minor": 2
}
