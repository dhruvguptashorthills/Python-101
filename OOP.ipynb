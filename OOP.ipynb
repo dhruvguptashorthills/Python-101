{
 "cells": [
  {
   "cell_type": "code",
   "execution_count": 16,
   "metadata": {},
   "outputs": [
    {
     "name": "stdout",
     "output_type": "stream",
     "text": [
      " woof!\n"
     ]
    }
   ],
   "source": [
    "#Class and objects\n",
    "class Dog:\n",
    "    def bark(self):\n",
    "        return f' woof!'\n",
    "\n",
    "my_dog = Dog()\n",
    "print(my_dog.bark())"
   ]
  },
  {
   "cell_type": "code",
   "execution_count": null,
   "metadata": {},
   "outputs": [
    {
     "name": "stdout",
     "output_type": "stream",
     "text": [
      "Whiskers says meow!\n"
     ]
    }
   ],
   "source": [
    "# __init__ method\n",
    "#Constructor and self\n",
    "class Cat:\n",
    "    def __init__(self, name, color):\n",
    "        self.name = name\n",
    "        self.color = color\n",
    "\n",
    "    def meow(self):\n",
    "        return f'{self.name} says meow!'\n",
    "\n",
    "my_cat = Cat('Whiskers', 'black')\n",
    "print(my_cat.meow())"
   ]
  },
  {
   "cell_type": "code",
   "execution_count": null,
   "metadata": {},
   "outputs": [],
   "source": [
    "#Types of Variables in class \n",
    "class Car:\n",
    "    wheels = 4  # Class variable\n",
    "\n",
    "    def __init__(self, make, model):\n",
    "        self.make = make  # Instance variable\n",
    "        self.model = model  # Instance variable\n",
    "\n",
    "my_car = Car('Toyota', 'Corolla')\n",
    "print(f'My car is a {my_car.make} {my_car.model} with {Car.wheels} wheels.')"
   ]
  },
  {
   "cell_type": "code",
   "execution_count": 25,
   "metadata": {},
   "outputs": [
    {
     "name": "stdout",
     "output_type": "stream",
     "text": [
      "Daksh\n",
      "21\n",
      "Doon\n",
      "Vaibhav\n",
      "19\n",
      "Doon\n",
      "2\n"
     ]
    }
   ],
   "source": [
    "#Types of methods in class\n",
    "class Students:\n",
    "    school=\"Doon\"\n",
    "    count=0\n",
    "    def __init__(self,name,age):\n",
    "        self.name=name\n",
    "        self.age=age\n",
    "        Students.count=Students.count + 1\n",
    "    \n",
    "    def display(self):\n",
    "        print(self.name)\n",
    "        print(self.age)\n",
    "        Students.schooldisplay()\n",
    "    @classmethod\n",
    "    def schooldisplay(cls):\n",
    "        print(cls.school)\n",
    "    @staticmethod\n",
    "    def numberofstudents():\n",
    "        print(Students.count)\n",
    "student1=Students(\"Daksh\",21)\n",
    "student2=Students(\"Vaibhav\",19)\n",
    "student1.display()\n",
    "student2.display()\n",
    "Students.numberofstudents()"
   ]
  },
  {
   "cell_type": "code",
   "execution_count": null,
   "metadata": {},
   "outputs": [],
   "source": []
  }
 ],
 "metadata": {
  "kernelspec": {
   "display_name": "Python 3",
   "language": "python",
   "name": "python3"
  },
  "language_info": {
   "codemirror_mode": {
    "name": "ipython",
    "version": 3
   },
   "file_extension": ".py",
   "mimetype": "text/x-python",
   "name": "python",
   "nbconvert_exporter": "python",
   "pygments_lexer": "ipython3",
   "version": "3.10.12"
  }
 },
 "nbformat": 4,
 "nbformat_minor": 2
}
