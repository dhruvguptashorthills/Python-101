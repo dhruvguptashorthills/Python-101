{
 "cells": [
  {
   "cell_type": "code",
   "execution_count": 1,
   "metadata": {},
   "outputs": [],
   "source": [
    "def add(num1, num2):\n",
    "    \"\"\"\n",
    "    Add up two integer numbers.\n",
    "\n",
    "    This function simply wraps the ``+`` operator, and does not\n",
    "    do anything interesting, except for illustrating what\n",
    "    the docstring of a very simple function looks like.\n",
    "\n",
    "    Parameters\n",
    "    ----------\n",
    "    num1 : int\n",
    "        First number to add.\n",
    "    num2 : int\n",
    "        Second number to add.\n",
    "\n",
    "    Returns\n",
    "    -------\n",
    "    int\n",
    "        The sum of ``num1`` and ``num2``.\n",
    "\n",
    "    See Also\n",
    "    --------\n",
    "    subtract : Subtract one integer from another.\n",
    "\n",
    "    Examples\n",
    "    --------\n",
    "    >>> add(2, 2)\n",
    "    4\n",
    "    >>> add(25, 0)\n",
    "    25\n",
    "    >>> add(10, -10)\n",
    "    0\n",
    "    \"\"\"\n",
    "    return num1 + num2"
   ]
  },
  {
   "cell_type": "code",
   "execution_count": 5,
   "metadata": {},
   "outputs": [],
   "source": [
    "def unstack():\n",
    "    \"\"\"\n",
    "    Pivot a row index to columns.\n",
    "\n",
    "    When using a MultiIndex, a level can be pivoted so each value in\n",
    "    the index becomes a column. This is especially useful when a subindex\n",
    "    is repeated for the main index, and data is easier to visualize as a\n",
    "    pivot table.\n",
    "\n",
    "    The index level will be automatically removed from the index when added\n",
    "    as columns.\n",
    "    \"\"\"\n",
    "    pass"
   ]
  },
  {
   "cell_type": "code",
   "execution_count": 4,
   "metadata": {},
   "outputs": [],
   "source": [
    "class Series:\n",
    "    def plot(self, kind, color='blue', **kwargs):\n",
    "        \"\"\"\n",
    "        Generate a plot.\n",
    "\n",
    "        Render the data in the Series as a matplotlib plot of the\n",
    "        specified kind.\n",
    "\n",
    "        Parameters\n",
    "        ----------\n",
    "        kind : str\n",
    "            Kind of matplotlib plot.\n",
    "        color : str, default 'blue'\n",
    "            Color name or rgb code.\n",
    "        **kwargs\n",
    "            These parameters will be passed to the matplotlib plotting\n",
    "            function.\n",
    "        \"\"\"\n",
    "        pass"
   ]
  },
  {
   "cell_type": "code",
   "execution_count": null,
   "metadata": {},
   "outputs": [],
   "source": []
  }
 ],
 "metadata": {
  "kernelspec": {
   "display_name": "Python 3",
   "language": "python",
   "name": "python3"
  },
  "language_info": {
   "codemirror_mode": {
    "name": "ipython",
    "version": 3
   },
   "file_extension": ".py",
   "mimetype": "text/x-python",
   "name": "python",
   "nbconvert_exporter": "python",
   "pygments_lexer": "ipython3",
   "version": "3.10.12"
  }
 },
 "nbformat": 4,
 "nbformat_minor": 2
}
