{
 "cells": [
  {
   "cell_type": "code",
   "execution_count": null,
   "metadata": {},
   "outputs": [
    {
     "name": "stdout",
     "output_type": "stream",
     "text": [
      "610\n"
     ]
    }
   ],
   "source": [
    "# Precedence of '+' & '*'\n",
    "expr = 10 + 20 * 35\n",
    "\n",
    "print(expr)\n"
   ]
  },
  {
   "cell_type": "code",
   "execution_count": 2,
   "metadata": {},
   "outputs": [
    {
     "name": "stdout",
     "output_type": "stream",
     "text": [
      "Hello! Welcome.\n"
     ]
    }
   ],
   "source": [
    "# Precedence of 'or' & 'and'\n",
    "name = \"Dhruv\"\n",
    "age = 19\n",
    "\n",
    "if name == \"Dhruv\" or name == \"John\" and age >= 20:\n",
    "\tprint(\"Hello! Welcome.\")\n",
    "else:\n",
    "\tprint(\"Good Bye!!\")\n"
   ]
  },
  {
   "cell_type": "code",
   "execution_count": 3,
   "metadata": {},
   "outputs": [
    {
     "name": "stdout",
     "output_type": "stream",
     "text": [
      "Hello! Welcome.\n"
     ]
    }
   ],
   "source": [
    "\n",
    "# Precedence of 'or' & 'and'\n",
    "name = \"Dhruv\"\n",
    "age = 19\n",
    " \n",
    "if (name == \"Dhruv\" or name == \"John\") and age >= 2:\n",
    "    print(\"Hello! Welcome.\")\n",
    "else:\n",
    "    print(\"Good Bye!!\")\n"
   ]
  },
  {
   "cell_type": "code",
   "execution_count": 8,
   "metadata": {},
   "outputs": [
    {
     "name": "stdout",
     "output_type": "stream",
     "text": [
      "100.00000000000001\n",
      "26\n",
      "0\n",
      "19683\n"
     ]
    }
   ],
   "source": [
    "# Left-right associativity\n",
    "# 100 / 10 * 10 is calculated as\n",
    "# (100 / 10) * 10 \n",
    "print(100 / 11 * 11)\n",
    "\n",
    "# Left-right associativity\n",
    "# 5 - 2 + 3 is calculated as\n",
    "# (5 - 2) + 3 \n",
    "print(15 - 2 + 13)\n",
    "\n",
    "# left-right associativity\n",
    "print(15 - (2 + 13))\n",
    "\n",
    "# right-left associativity\n",
    "# 2 ** 3 ** 2 is calculated as\n",
    "# 2 ** (3 ** 2) \n",
    "print(3 ** 3 ** 2)\n"
   ]
  },
  {
   "cell_type": "code",
   "execution_count": null,
   "metadata": {},
   "outputs": [],
   "source": []
  },
  {
   "cell_type": "code",
   "execution_count": null,
   "metadata": {},
   "outputs": [],
   "source": []
  },
  {
   "cell_type": "code",
   "execution_count": null,
   "metadata": {},
   "outputs": [],
   "source": []
  }
 ],
 "metadata": {
  "kernelspec": {
   "display_name": "Python 3",
   "language": "python",
   "name": "python3"
  },
  "language_info": {
   "codemirror_mode": {
    "name": "ipython",
    "version": 3
   },
   "file_extension": ".py",
   "mimetype": "text/x-python",
   "name": "python",
   "nbconvert_exporter": "python",
   "pygments_lexer": "ipython3",
   "version": "3.10.12"
  }
 },
 "nbformat": 4,
 "nbformat_minor": 2
}
