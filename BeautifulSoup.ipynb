{
 "cells": [
  {
   "cell_type": "code",
   "execution_count": 51,
   "metadata": {},
   "outputs": [
    {
     "name": "stdout",
     "output_type": "stream",
     "text": [
      "Python for beginners costs 20$\n",
      "Python Web Development costs 50$\n",
      "Python Machine Learning costs 100$\n"
     ]
    }
   ],
   "source": [
    "#Webscrapping a local html website\n",
    "from bs4 import BeautifulSoup\n",
    "with open('home.html','r') as html_file:\n",
    "    content = html_file.read()\n",
    "    soup=BeautifulSoup(content,'html')  #parsing the html content\n",
    "    course_cards = soup.find_all('div',class_='card')\n",
    "    for course in course_cards:\n",
    "        course_name=course.h5.text\n",
    "        course_price=course.a.text.split()[-1]\n",
    "        print(f'{course_name} costs {course_price}')"
   ]
  },
  {
   "cell_type": "code",
   "execution_count": 52,
   "metadata": {},
   "outputs": [],
   "source": [
    "# Web scrapping a live website\n",
    "import requests\n",
    "html_text=requests.get('https://www.timesjobs.com/candidate/job-search.html?searchType=personalizedSearch&from=submit&txtKeywords=python&txtLocation=').text\n",
    "soup=BeautifulSoup(html_text,'html.parser') #html.parser is the parser used to parse the html content\n",
    "\n",
    "\n",
    "    "
   ]
  },
  {
   "cell_type": "code",
   "execution_count": null,
   "metadata": {},
   "outputs": [
    {
     "name": "stdout",
     "output_type": "stream",
     "text": [
      "File saved: 3\n",
      "File saved: 6\n",
      "File saved: 7\n",
      "File saved: 9\n",
      "File saved: 10\n",
      "File saved: 13\n",
      "File saved: 14\n",
      "File saved: 18\n",
      "File saved: 19\n",
      "File saved: 20\n",
      "File saved: 21\n",
      "File saved: 22\n",
      "File saved: 23\n",
      "File saved: 24\n"
     ]
    }
   ],
   "source": [
    "#Extracting data from the website and storing it in a file\n",
    "jobs = soup.find_all('li',class_='clearfix job-bx wht-shd-bx')\n",
    "for index,job in enumerate(jobs):\n",
    "    published_date=job.find('span',class_='sim-posted').span.text\n",
    "    if 'few' in published_date:\n",
    "        company_name=job.find('h3',class_='joblist-comp-name').text.replace(' ','')\n",
    "        more_info=job.header.h2.a['href']\n",
    "        with open(f'posts/{index}.txt','w') as f:\n",
    "            f.write(f'Company Name: {company_name.strip()}\\n')\n",
    "            f.write(f'Published Date: {published_date.strip()}\\n')\n",
    "            f.write(f'More Info: {more_info}')\n",
    "        print(f'File saved: {index}')\n"
   ]
  },
  {
   "cell_type": "code",
   "execution_count": null,
   "metadata": {},
   "outputs": [],
   "source": []
  }
 ],
 "metadata": {
  "kernelspec": {
   "display_name": "Python 3",
   "language": "python",
   "name": "python3"
  },
  "language_info": {
   "codemirror_mode": {
    "name": "ipython",
    "version": 3
   },
   "file_extension": ".py",
   "mimetype": "text/x-python",
   "name": "python",
   "nbconvert_exporter": "python",
   "pygments_lexer": "ipython3",
   "version": "3.10.12"
  }
 },
 "nbformat": 4,
 "nbformat_minor": 2
}
